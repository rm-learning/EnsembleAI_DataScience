{
 "cells": [
  {
   "cell_type": "markdown",
   "metadata": {},
   "source": [
    "## ⋰ **Data Preprocessing** ⋱\n",
    "\n",
    "Neste documento, estou utilizando a base de dados `'dataframes\\weather_play.csv'` para fazer o pré-processamento de dados necessário para a utilização dos algoritmos de Inteligência Artificial. Além disso, fiz anotações pertinentes que me ajudarão a recordar as bibliotecas, módulos e funções que utilizei no decorrer da análise de dados.\n",
    "\n",
    "Posteriormente, nos notebooks dedicados utilizarei apenas o formato `.pkl` da base dados para que não seja necessário fazer o pré-processamento novamente na utilização dos algoritmos.\n",
    "\n",
    "### 📍 **Importação de Bibliotecas e Módulos**"
   ]
  },
  {
   "cell_type": "code",
   "execution_count": 1,
   "metadata": {},
   "outputs": [
    {
     "name": "stdout",
     "output_type": "stream",
     "text": [
      "Note: you may need to restart the kernel to use updated packages.\n"
     ]
    }
   ],
   "source": [
    "%pip -q install plotly --upgrade\n",
    "\n",
    "import pandas as pd\n",
    "import numpy as np\n",
    "import seaborn as sns\n",
    "import matplotlib.pyplot as plt\n",
    "import plotly.express as px"
   ]
  },
  {
   "cell_type": "code",
   "execution_count": 2,
   "metadata": {},
   "outputs": [],
   "source": [
    "df_weather = pd.read_csv('../../dataframes/weather_play.csv', encoding='ISO-8859-1')"
   ]
  },
  {
   "cell_type": "markdown",
   "metadata": {},
   "source": [
    "### 📍 **Visualização de Dados**"
   ]
  },
  {
   "cell_type": "code",
   "execution_count": 3,
   "metadata": {},
   "outputs": [
    {
     "data": {
      "text/html": [
       "<div>\n",
       "<style scoped>\n",
       "    .dataframe tbody tr th:only-of-type {\n",
       "        vertical-align: middle;\n",
       "    }\n",
       "\n",
       "    .dataframe tbody tr th {\n",
       "        vertical-align: top;\n",
       "    }\n",
       "\n",
       "    .dataframe thead th {\n",
       "        text-align: right;\n",
       "    }\n",
       "</style>\n",
       "<table border=\"1\" class=\"dataframe\">\n",
       "  <thead>\n",
       "    <tr style=\"text-align: right;\">\n",
       "      <th></th>\n",
       "      <th>dia</th>\n",
       "      <th>aparencia</th>\n",
       "      <th>temperatura</th>\n",
       "      <th>umidade</th>\n",
       "      <th>ventando</th>\n",
       "      <th>jogar</th>\n",
       "    </tr>\n",
       "  </thead>\n",
       "  <tbody>\n",
       "    <tr>\n",
       "      <th>0</th>\n",
       "      <td>d1</td>\n",
       "      <td>sol</td>\n",
       "      <td>quente</td>\n",
       "      <td>alta</td>\n",
       "      <td>nao</td>\n",
       "      <td>nao</td>\n",
       "    </tr>\n",
       "    <tr>\n",
       "      <th>1</th>\n",
       "      <td>d2</td>\n",
       "      <td>sol</td>\n",
       "      <td>quente</td>\n",
       "      <td>alta</td>\n",
       "      <td>sim</td>\n",
       "      <td>nao</td>\n",
       "    </tr>\n",
       "    <tr>\n",
       "      <th>2</th>\n",
       "      <td>d3</td>\n",
       "      <td>nublado</td>\n",
       "      <td>quente</td>\n",
       "      <td>alta</td>\n",
       "      <td>nao</td>\n",
       "      <td>sim</td>\n",
       "    </tr>\n",
       "    <tr>\n",
       "      <th>3</th>\n",
       "      <td>d4</td>\n",
       "      <td>chuva</td>\n",
       "      <td>agradavel</td>\n",
       "      <td>alta</td>\n",
       "      <td>nao</td>\n",
       "      <td>sim</td>\n",
       "    </tr>\n",
       "    <tr>\n",
       "      <th>4</th>\n",
       "      <td>d5</td>\n",
       "      <td>chuva</td>\n",
       "      <td>fria</td>\n",
       "      <td>normal</td>\n",
       "      <td>nao</td>\n",
       "      <td>sim</td>\n",
       "    </tr>\n",
       "    <tr>\n",
       "      <th>5</th>\n",
       "      <td>d6</td>\n",
       "      <td>chuva</td>\n",
       "      <td>fria</td>\n",
       "      <td>normal</td>\n",
       "      <td>sim</td>\n",
       "      <td>nao</td>\n",
       "    </tr>\n",
       "    <tr>\n",
       "      <th>6</th>\n",
       "      <td>d7</td>\n",
       "      <td>nublado</td>\n",
       "      <td>fria</td>\n",
       "      <td>normal</td>\n",
       "      <td>sim</td>\n",
       "      <td>sim</td>\n",
       "    </tr>\n",
       "    <tr>\n",
       "      <th>7</th>\n",
       "      <td>d8</td>\n",
       "      <td>sol</td>\n",
       "      <td>agradavel</td>\n",
       "      <td>alta</td>\n",
       "      <td>nao</td>\n",
       "      <td>nao</td>\n",
       "    </tr>\n",
       "    <tr>\n",
       "      <th>8</th>\n",
       "      <td>d9</td>\n",
       "      <td>sol</td>\n",
       "      <td>fria</td>\n",
       "      <td>normal</td>\n",
       "      <td>nao</td>\n",
       "      <td>sim</td>\n",
       "    </tr>\n",
       "    <tr>\n",
       "      <th>9</th>\n",
       "      <td>d10</td>\n",
       "      <td>chuva</td>\n",
       "      <td>agradavel</td>\n",
       "      <td>normal</td>\n",
       "      <td>nao</td>\n",
       "      <td>sim</td>\n",
       "    </tr>\n",
       "    <tr>\n",
       "      <th>10</th>\n",
       "      <td>d11</td>\n",
       "      <td>sol</td>\n",
       "      <td>agradavel</td>\n",
       "      <td>normal</td>\n",
       "      <td>sim</td>\n",
       "      <td>sim</td>\n",
       "    </tr>\n",
       "    <tr>\n",
       "      <th>11</th>\n",
       "      <td>d12</td>\n",
       "      <td>nublado</td>\n",
       "      <td>agradavel</td>\n",
       "      <td>alta</td>\n",
       "      <td>sim</td>\n",
       "      <td>sim</td>\n",
       "    </tr>\n",
       "    <tr>\n",
       "      <th>12</th>\n",
       "      <td>d13</td>\n",
       "      <td>nublado</td>\n",
       "      <td>quente</td>\n",
       "      <td>normal</td>\n",
       "      <td>nao</td>\n",
       "      <td>sim</td>\n",
       "    </tr>\n",
       "    <tr>\n",
       "      <th>13</th>\n",
       "      <td>d14</td>\n",
       "      <td>chuva</td>\n",
       "      <td>agradavel</td>\n",
       "      <td>alta</td>\n",
       "      <td>sim</td>\n",
       "      <td>nao</td>\n",
       "    </tr>\n",
       "  </tbody>\n",
       "</table>\n",
       "</div>"
      ],
      "text/plain": [
       "    dia aparencia temperatura  umidade ventando jogar\n",
       "0    d1       sol      quente     alta      nao   nao\n",
       "1    d2       sol      quente     alta      sim   nao\n",
       "2    d3   nublado      quente     alta      nao   sim\n",
       "3    d4     chuva   agradavel     alta      nao   sim\n",
       "4    d5     chuva        fria   normal      nao   sim\n",
       "5    d6     chuva        fria   normal      sim   nao\n",
       "6    d7   nublado        fria   normal      sim   sim\n",
       "7    d8       sol   agradavel     alta      nao   nao\n",
       "8    d9       sol        fria   normal      nao   sim\n",
       "9   d10     chuva   agradavel   normal      nao   sim\n",
       "10  d11       sol   agradavel   normal      sim   sim\n",
       "11  d12   nublado   agradavel     alta      sim   sim\n",
       "12  d13   nublado      quente   normal      nao   sim\n",
       "13  d14     chuva   agradavel     alta      sim   nao"
      ]
     },
     "execution_count": 3,
     "metadata": {},
     "output_type": "execute_result"
    }
   ],
   "source": [
    "df_weather"
   ]
  },
  {
   "cell_type": "markdown",
   "metadata": {},
   "source": [
    "### 📍 **Divisão das Variáveis**"
   ]
  },
  {
   "cell_type": "code",
   "execution_count": 4,
   "metadata": {},
   "outputs": [
    {
     "data": {
      "text/plain": [
       "array([[' sol', ' quente', ' alta', ' nao'],\n",
       "       [' sol', ' quente', ' alta', ' sim'],\n",
       "       [' nublado', ' quente', ' alta', ' nao'],\n",
       "       [' chuva', ' agradavel', ' alta', ' nao'],\n",
       "       [' chuva', ' fria', ' normal', ' nao'],\n",
       "       [' chuva', ' fria', ' normal', ' sim'],\n",
       "       [' nublado', ' fria', ' normal', ' sim'],\n",
       "       [' sol', ' agradavel', ' alta', ' nao'],\n",
       "       [' sol', ' fria', ' normal', ' nao'],\n",
       "       [' chuva', ' agradavel', ' normal', ' nao'],\n",
       "       [' sol', ' agradavel', ' normal', ' sim'],\n",
       "       [' nublado', ' agradavel', ' alta', ' sim'],\n",
       "       [' nublado', ' quente', ' normal', ' nao'],\n",
       "       [' chuva', ' agradavel', ' alta', ' sim']], dtype=object)"
      ]
     },
     "execution_count": 4,
     "metadata": {},
     "output_type": "execute_result"
    }
   ],
   "source": [
    "X_weather = df_weather.iloc[:, 1:5].values\n",
    "X_weather"
   ]
  },
  {
   "cell_type": "code",
   "execution_count": 5,
   "metadata": {},
   "outputs": [
    {
     "data": {
      "text/plain": [
       "array([' nao', ' nao', ' sim', ' sim', ' sim', ' nao', ' sim', ' nao',\n",
       "       ' sim', ' sim', ' sim', ' sim', ' sim', ' nao'], dtype=object)"
      ]
     },
     "execution_count": 5,
     "metadata": {},
     "output_type": "execute_result"
    }
   ],
   "source": [
    "y_weather = df_weather.iloc[:, 5].values\n",
    "y_weather"
   ]
  },
  {
   "cell_type": "markdown",
   "metadata": {},
   "source": [
    "### 📍 **Tratamento de Dados**"
   ]
  },
  {
   "cell_type": "code",
   "execution_count": 6,
   "metadata": {},
   "outputs": [],
   "source": [
    "from sklearn.preprocessing import LabelEncoder"
   ]
  },
  {
   "cell_type": "code",
   "execution_count": 7,
   "metadata": {},
   "outputs": [],
   "source": [
    "categorical_columns = [0, 1, 2, 3]\n",
    "label_encoders = {}\n",
    "\n",
    "for column in categorical_columns:\n",
    "    label_encoder = LabelEncoder()\n",
    "    label_encoder.fit(X_weather[:, column])\n",
    "    X_weather[:, column] = label_encoder.fit_transform(X_weather[:, column])\n",
    "    label_encoders[column] = label_encoder"
   ]
  },
  {
   "cell_type": "code",
   "execution_count": 8,
   "metadata": {},
   "outputs": [
    {
     "data": {
      "text/plain": [
       "array([[2, 2, 0, 0],\n",
       "       [2, 2, 0, 1],\n",
       "       [1, 2, 0, 0],\n",
       "       [0, 0, 0, 0],\n",
       "       [0, 1, 1, 0],\n",
       "       [0, 1, 1, 1],\n",
       "       [1, 1, 1, 1],\n",
       "       [2, 0, 0, 0],\n",
       "       [2, 1, 1, 0],\n",
       "       [0, 0, 1, 0],\n",
       "       [2, 0, 1, 1],\n",
       "       [1, 0, 0, 1],\n",
       "       [1, 2, 1, 0],\n",
       "       [0, 0, 0, 1]], dtype=object)"
      ]
     },
     "execution_count": 8,
     "metadata": {},
     "output_type": "execute_result"
    }
   ],
   "source": [
    "X_weather"
   ]
  },
  {
   "cell_type": "markdown",
   "metadata": {},
   "source": [
    "### 📍 **Salvando Variáveis no formato pkl**"
   ]
  },
  {
   "cell_type": "code",
   "execution_count": 9,
   "metadata": {},
   "outputs": [],
   "source": [
    "import pickle\n",
    "with open('../../dataframes/pickle/weather_play.pkl', mode='wb') as f:\n",
    "    pickle.dump([X_weather, y_weather], f)"
   ]
  }
 ],
 "metadata": {
  "kernelspec": {
   "display_name": "Python 3",
   "language": "python",
   "name": "python3"
  },
  "language_info": {
   "codemirror_mode": {
    "name": "ipython",
    "version": 3
   },
   "file_extension": ".py",
   "mimetype": "text/x-python",
   "name": "python",
   "nbconvert_exporter": "python",
   "pygments_lexer": "ipython3",
   "version": "3.11.5"
  },
  "orig_nbformat": 4
 },
 "nbformat": 4,
 "nbformat_minor": 2
}
